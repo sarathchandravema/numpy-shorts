{
 "cells": [
  {
   "cell_type": "code",
   "execution_count": 1,
   "id": "ae560a67",
   "metadata": {},
   "outputs": [
    {
     "name": "stdout",
     "output_type": "stream",
     "text": [
      "Welcome Numpy-3\n"
     ]
    }
   ],
   "source": [
    "print(\"Welcome Numpy-3\")"
   ]
  },
  {
   "cell_type": "code",
   "execution_count": 2,
   "id": "248dda58",
   "metadata": {},
   "outputs": [],
   "source": [
    "import numpy as np"
   ]
  },
  {
   "cell_type": "code",
   "execution_count": 3,
   "id": "7d0b894f",
   "metadata": {},
   "outputs": [
    {
     "data": {
      "text/plain": [
       "array([ 4,  2, 65, 56,  0,  6,  9])"
      ]
     },
     "execution_count": 3,
     "metadata": {},
     "output_type": "execute_result"
    }
   ],
   "source": [
    "a = np.array([4,2,65,56,0,6,9])\n",
    "a"
   ]
  },
  {
   "cell_type": "code",
   "execution_count": 4,
   "id": "56158705",
   "metadata": {},
   "outputs": [
    {
     "data": {
      "text/plain": [
       "array([ 0,  2,  4,  6,  9, 56, 65])"
      ]
     },
     "execution_count": 4,
     "metadata": {},
     "output_type": "execute_result"
    }
   ],
   "source": [
    "np.sort(a)"
   ]
  },
  {
   "cell_type": "code",
   "execution_count": 5,
   "id": "7824d81e",
   "metadata": {},
   "outputs": [
    {
     "data": {
      "text/plain": [
       "array([ 4,  2, 65, 56,  0,  6,  9])"
      ]
     },
     "execution_count": 5,
     "metadata": {},
     "output_type": "execute_result"
    }
   ],
   "source": [
    "a"
   ]
  },
  {
   "cell_type": "code",
   "execution_count": 6,
   "id": "074f9c04",
   "metadata": {},
   "outputs": [],
   "source": [
    "a.sort() # this is ndarray.sort"
   ]
  },
  {
   "cell_type": "code",
   "execution_count": 7,
   "id": "237677c9",
   "metadata": {},
   "outputs": [
    {
     "data": {
      "text/plain": [
       "array([ 0,  2,  4,  6,  9, 56, 65])"
      ]
     },
     "execution_count": 7,
     "metadata": {},
     "output_type": "execute_result"
    }
   ],
   "source": [
    "a"
   ]
  },
  {
   "cell_type": "markdown",
   "id": "1ab7a852",
   "metadata": {},
   "source": [
    "Difference b/n ndarray.sort() and np.sort(ndarray) is that inplace and permanent sorting for earlier while the latter just sorts and returns but doesn't store.\n",
    "\n",
    "Above is the example."
   ]
  },
  {
   "cell_type": "code",
   "execution_count": 8,
   "id": "a82394b5",
   "metadata": {},
   "outputs": [],
   "source": [
    "a = np.array([4,2,65,56,0,6,9])"
   ]
  },
  {
   "cell_type": "code",
   "execution_count": 9,
   "id": "1ad899d7",
   "metadata": {},
   "outputs": [
    {
     "data": {
      "text/plain": [
       "array([4, 1, 0, 5, 6, 3, 2], dtype=int64)"
      ]
     },
     "execution_count": 9,
     "metadata": {},
     "output_type": "execute_result"
    }
   ],
   "source": [
    "np.argsort(a)"
   ]
  },
  {
   "cell_type": "code",
   "execution_count": 10,
   "id": "a1cbac88",
   "metadata": {},
   "outputs": [
    {
     "data": {
      "text/plain": [
       "65"
      ]
     },
     "execution_count": 10,
     "metadata": {},
     "output_type": "execute_result"
    }
   ],
   "source": [
    "np.max(a)"
   ]
  },
  {
   "cell_type": "code",
   "execution_count": 11,
   "id": "c67f7c68",
   "metadata": {},
   "outputs": [
    {
     "data": {
      "text/plain": [
       "2"
      ]
     },
     "execution_count": 11,
     "metadata": {},
     "output_type": "execute_result"
    }
   ],
   "source": [
    "np.argmax(a)"
   ]
  },
  {
   "cell_type": "code",
   "execution_count": 12,
   "id": "94733dcb",
   "metadata": {},
   "outputs": [],
   "source": [
    "a = np.array([4,2,65,56,0,65, 6,9]) #multiple max values"
   ]
  },
  {
   "cell_type": "code",
   "execution_count": 13,
   "id": "cdab8af7",
   "metadata": {},
   "outputs": [
    {
     "data": {
      "text/plain": [
       "65"
      ]
     },
     "execution_count": 13,
     "metadata": {},
     "output_type": "execute_result"
    }
   ],
   "source": [
    "np.max(a)"
   ]
  },
  {
   "cell_type": "code",
   "execution_count": 14,
   "id": "3dd8fa45",
   "metadata": {},
   "outputs": [
    {
     "data": {
      "text/plain": [
       "2"
      ]
     },
     "execution_count": 14,
     "metadata": {},
     "output_type": "execute_result"
    }
   ],
   "source": [
    "np.argmax(a)"
   ]
  },
  {
   "cell_type": "code",
   "execution_count": 15,
   "id": "ab9be73e",
   "metadata": {},
   "outputs": [
    {
     "data": {
      "text/plain": [
       "array([ 0,  2,  4,  6,  9, 56, 65, 65])"
      ]
     },
     "execution_count": 15,
     "metadata": {},
     "output_type": "execute_result"
    }
   ],
   "source": [
    "np.sort(a)"
   ]
  },
  {
   "cell_type": "code",
   "execution_count": 16,
   "id": "73cf8935",
   "metadata": {},
   "outputs": [
    {
     "data": {
      "text/plain": [
       "array([4, 1, 0, 6, 7, 3, 2, 5], dtype=int64)"
      ]
     },
     "execution_count": 16,
     "metadata": {},
     "output_type": "execute_result"
    }
   ],
   "source": [
    "np.argsort(a)"
   ]
  },
  {
   "cell_type": "code",
   "execution_count": null,
   "id": "c61ab0b2",
   "metadata": {},
   "outputs": [],
   "source": []
  },
  {
   "cell_type": "code",
   "execution_count": 17,
   "id": "f6dda785",
   "metadata": {},
   "outputs": [
    {
     "data": {
      "text/plain": [
       "array([[23,  2, 54],\n",
       "       [17,  3, 42],\n",
       "       [15,  5, 65]])"
      ]
     },
     "execution_count": 17,
     "metadata": {},
     "output_type": "execute_result"
    }
   ],
   "source": [
    "b = np.array([[23,2,54], [17,3,42], [15,5,65]])\n",
    "b"
   ]
  },
  {
   "cell_type": "code",
   "execution_count": 18,
   "id": "1d3df009",
   "metadata": {},
   "outputs": [
    {
     "data": {
      "text/plain": [
       "226"
      ]
     },
     "execution_count": 18,
     "metadata": {},
     "output_type": "execute_result"
    }
   ],
   "source": [
    "np.sum(b)"
   ]
  },
  {
   "cell_type": "code",
   "execution_count": 19,
   "id": "3c9cfe00",
   "metadata": {},
   "outputs": [
    {
     "data": {
      "text/plain": [
       "array([[ 2, 23, 54],\n",
       "       [ 3, 17, 42],\n",
       "       [ 5, 15, 65]])"
      ]
     },
     "execution_count": 19,
     "metadata": {},
     "output_type": "execute_result"
    }
   ],
   "source": [
    "np.sort(b) # defaults to last axis or max axis, in 2-d it is axis=1"
   ]
  },
  {
   "cell_type": "code",
   "execution_count": 20,
   "id": "12c1e8aa",
   "metadata": {},
   "outputs": [
    {
     "data": {
      "text/plain": [
       "array([[15,  2, 42],\n",
       "       [17,  3, 54],\n",
       "       [23,  5, 65]])"
      ]
     },
     "execution_count": 20,
     "metadata": {},
     "output_type": "execute_result"
    }
   ],
   "source": [
    "np.sort(b, axis=0)"
   ]
  },
  {
   "cell_type": "code",
   "execution_count": 21,
   "id": "f70e0835",
   "metadata": {},
   "outputs": [
    {
     "data": {
      "text/plain": [
       "array([[1, 0, 2],\n",
       "       [1, 0, 2],\n",
       "       [1, 0, 2]], dtype=int64)"
      ]
     },
     "execution_count": 21,
     "metadata": {},
     "output_type": "execute_result"
    }
   ],
   "source": [
    "np.argsort(b)"
   ]
  },
  {
   "cell_type": "code",
   "execution_count": 22,
   "id": "28505435",
   "metadata": {},
   "outputs": [
    {
     "data": {
      "text/plain": [
       "array([[1, 0, 2],\n",
       "       [1, 0, 2],\n",
       "       [1, 0, 2]], dtype=int64)"
      ]
     },
     "execution_count": 22,
     "metadata": {},
     "output_type": "execute_result"
    }
   ],
   "source": [
    "np.argsort(b, axis=1)"
   ]
  },
  {
   "cell_type": "code",
   "execution_count": 23,
   "id": "72e9ed68",
   "metadata": {},
   "outputs": [
    {
     "data": {
      "text/plain": [
       "array([[2, 0, 1],\n",
       "       [1, 1, 0],\n",
       "       [0, 2, 2]], dtype=int64)"
      ]
     },
     "execution_count": 23,
     "metadata": {},
     "output_type": "execute_result"
    }
   ],
   "source": [
    "np.argsort(b, axis=0)"
   ]
  },
  {
   "cell_type": "code",
   "execution_count": 24,
   "id": "9e42987d",
   "metadata": {},
   "outputs": [],
   "source": [
    "np.sort?"
   ]
  },
  {
   "cell_type": "code",
   "execution_count": 31,
   "id": "6fb993ff",
   "metadata": {},
   "outputs": [],
   "source": [
    "### This is unpacking\n",
    "a,b,c = [1,2,3]"
   ]
  },
  {
   "cell_type": "code",
   "execution_count": 32,
   "id": "c44c32b0",
   "metadata": {},
   "outputs": [
    {
     "name": "stdout",
     "output_type": "stream",
     "text": [
      "1\n",
      "2\n",
      "3\n"
     ]
    }
   ],
   "source": [
    "print(a)\n",
    "print(b)\n",
    "print(c)"
   ]
  },
  {
   "cell_type": "code",
   "execution_count": 41,
   "id": "5bac9945",
   "metadata": {},
   "outputs": [
    {
     "name": "stdout",
     "output_type": "stream",
     "text": [
      "[1 2 3]\n"
     ]
    }
   ],
   "source": [
    "data1=np.array([1, 2, 3])\n",
    "print(data1)"
   ]
  },
  {
   "cell_type": "code",
   "execution_count": 42,
   "id": "c58bf057",
   "metadata": {},
   "outputs": [
    {
     "data": {
      "text/plain": [
       "(3,)"
      ]
     },
     "execution_count": 42,
     "metadata": {},
     "output_type": "execute_result"
    }
   ],
   "source": [
    "data1.shape"
   ]
  },
  {
   "cell_type": "code",
   "execution_count": 43,
   "id": "6b5744ed",
   "metadata": {},
   "outputs": [],
   "source": [
    "a,b,c = data1.T"
   ]
  },
  {
   "cell_type": "code",
   "execution_count": 44,
   "id": "8c20927d",
   "metadata": {},
   "outputs": [
    {
     "name": "stdout",
     "output_type": "stream",
     "text": [
      "1\n",
      "2\n",
      "3\n"
     ]
    }
   ],
   "source": [
    "print(a)\n",
    "print(b)\n",
    "print(c)"
   ]
  },
  {
   "cell_type": "code",
   "execution_count": 25,
   "id": "68d5a183",
   "metadata": {},
   "outputs": [],
   "source": [
    "data=np.loadtxt('fitness.txt', dtype='str')"
   ]
  },
  {
   "cell_type": "code",
   "execution_count": 27,
   "id": "8823f7ba",
   "metadata": {
    "scrolled": true
   },
   "outputs": [
    {
     "data": {
      "text/plain": [
       "array([['06-10-2017', '5464', '200', '181', '5', '0', '66'],\n",
       "       ['07-10-2017', '6041', '100', '197', '8', '0', '66'],\n",
       "       ['08-10-2017', '25', '100', '0', '5', '0', '66'],\n",
       "       ['09-10-2017', '5461', '100', '174', '4', '0', '66'],\n",
       "       ['10-10-2017', '6915', '200', '223', '5', '500', '66']],\n",
       "      dtype='<U10')"
      ]
     },
     "execution_count": 27,
     "metadata": {},
     "output_type": "execute_result"
    }
   ],
   "source": [
    "data[:5]"
   ]
  },
  {
   "cell_type": "code",
   "execution_count": 28,
   "id": "e9e95864",
   "metadata": {},
   "outputs": [
    {
     "data": {
      "text/plain": [
       "(96, 7)"
      ]
     },
     "execution_count": 28,
     "metadata": {},
     "output_type": "execute_result"
    }
   ],
   "source": [
    "data.shape"
   ]
  },
  {
   "cell_type": "code",
   "execution_count": 29,
   "id": "886f7ddd",
   "metadata": {},
   "outputs": [
    {
     "data": {
      "text/plain": [
       "array(['06-10-2017', '5464', '200', '181', '5', '0', '66'], dtype='<U10')"
      ]
     },
     "execution_count": 29,
     "metadata": {},
     "output_type": "execute_result"
    }
   ],
   "source": [
    "data[0]"
   ]
  },
  {
   "cell_type": "code",
   "execution_count": 30,
   "id": "1f7edbe9",
   "metadata": {
    "scrolled": true
   },
   "outputs": [
    {
     "data": {
      "text/plain": [
       "array([['06-10-2017', '07-10-2017', '08-10-2017', '09-10-2017',\n",
       "        '10-10-2017', '11-10-2017', '12-10-2017', '13-10-2017',\n",
       "        '14-10-2017', '15-10-2017', '16-10-2017', '17-10-2017',\n",
       "        '18-10-2017', '19-10-2017', '20-10-2017', '21-10-2017',\n",
       "        '22-10-2017', '23-10-2017', '24-10-2017', '25-10-2017',\n",
       "        '26-10-2017', '27-10-2017', '28-10-2017', '29-10-2017',\n",
       "        '30-10-2017', '31-10-2017', '01-11-2017', '02-11-2017',\n",
       "        '03-11-2017', '04-11-2017', '05-11-2017', '06-11-2017',\n",
       "        '07-11-2017', '08-11-2017', '09-11-2017', '10-11-2017',\n",
       "        '11-11-2017', '12-11-2017', '13-11-2017', '14-11-2017',\n",
       "        '15-11-2017', '16-11-2017', '17-11-2017', '18-11-2017',\n",
       "        '19-11-2017', '20-11-2017', '21-11-2017', '22-11-2017',\n",
       "        '23-11-2017', '24-11-2017', '25-11-2017', '26-11-2017',\n",
       "        '27-11-2017', '28-11-2017', '29-11-2017', '30-11-2017',\n",
       "        '01-12-2017', '02-12-2017', '03-12-2017', '04-12-2017',\n",
       "        '05-12-2017', '06-12-2017', '07-12-2017', '08-12-2017',\n",
       "        '09-12-2017', '10-12-2017', '11-12-2017', '12-12-2017',\n",
       "        '13-12-2017', '14-12-2017', '15-12-2017', '16-12-2017',\n",
       "        '17-12-2017', '18-12-2017', '19-12-2017', '20-12-2017',\n",
       "        '21-12-2017', '22-12-2017', '23-12-2017', '24-12-2017',\n",
       "        '25-12-2017', '26-12-2017', '27-12-2017', '28-12-2017',\n",
       "        '29-12-2017', '30-12-2017', '31-12-2017', '01-01-2018',\n",
       "        '02-01-2018', '03-01-2018', '04-01-2018', '05-01-2018',\n",
       "        '06-01-2018', '07-01-2018', '08-01-2018', '09-01-2018'],\n",
       "       ['5464', '6041', '25', '5461', '6915', '4545', '4340', '1230',\n",
       "        '61', '1258', '3148', '4687', '4732', '3519', '1580', '2822',\n",
       "        '181', '3158', '4383', '3881', '4037', '202', '292', '330',\n",
       "        '2209', '4550', '4435', '4779', '1831', '2255', '539', '5464',\n",
       "        '6041', '4068', '4683', '4033', '6314', '614', '3149', '4005',\n",
       "        '4880', '4136', '705', '570', '269', '4275', '5999', '4421',\n",
       "        '6930', '5195', '546', '493', '995', '1163', '6676', '3608',\n",
       "        '774', '1421', '4064', '2725', '5934', '1867', '3721', '2374',\n",
       "        '2909', '1648', '799', '7102', '3941', '7422', '437', '1231',\n",
       "        '1696', '4921', '221', '6500', '3575', '4061', '651', '753',\n",
       "        '518', '5537', '4108', '5376', '3066', '177', '36', '299',\n",
       "        '1447', '2599', '702', '133', '153', '500', '2127', '2203'],\n",
       "       ['200', '100', '100', '100', '200', '100', '100', '100', '100',\n",
       "        '100', '100', '100', '300', '100', '100', '100', '100', '200',\n",
       "        '200', '200', '200', '200', '200', '300', '200', '300', '300',\n",
       "        '300', '300', '300', '300', '300', '200', '300', '300', '300',\n",
       "        '300', '300', '300', '300', '300', '300', '300', '200', '300',\n",
       "        '300', '300', '300', '300', '300', '300', '300', '300', '200',\n",
       "        '100', '300', '300', '300', '300', '300', '300', '300', '100',\n",
       "        '200', '200', '100', '100', '200', '200', '300', '200', '200',\n",
       "        '100', '200', '100', '200', '200', '100', '100', '100', '100',\n",
       "        '300', '200', '300', '200', '100', '100', '100', '200', '200',\n",
       "        '100', '100', '300', '200', '200', '300'],\n",
       "       ['181', '197', '0', '174', '223', '149', '140', '38', '1', '40',\n",
       "        '101', '152', '150', '113', '49', '86', '6', '99', '143', '125',\n",
       "        '129', '6', '9', '10', '72', '150', '141', '156', '57', '72',\n",
       "        '17', '181', '197', '131', '154', '137', '193', '19', '101',\n",
       "        '139', '164', '137', '22', '17', '9', '145', '192', '146', '234',\n",
       "        '167', '16', '17', '32', '35', '220', '116', '23', '44', '131',\n",
       "        '86', '194', '60', '121', '76', '93', '53', '25', '227', '125',\n",
       "        '243', '14', '39', '55', '158', '7', '213', '116', '129', '21',\n",
       "        '28', '16', '180', '138', '176', '99', '5', '1', '10', '47',\n",
       "        '84', '23', '4', '0', '0', '0', '0'],\n",
       "       ['5', '8', '5', '4', '5', '6', '6', '7', '5', '6', '8', '5', '6',\n",
       "        '7', '5', '6', '8', '5', '4', '5', '6', '8', '5', '6', '5', '8',\n",
       "        '5', '4', '5', '4', '5', '4', '3', '2', '9', '5', '6', '4', '5',\n",
       "        '8', '4', '5', '6', '5', '6', '5', '6', '5', '6', '5', '6', '7',\n",
       "        '6', '7', '6', '5', '6', '7', '8', '8', '7', '8', '5', '4', '3',\n",
       "        '3', '4', '5', '5', '5', '3', '4', '4', '5', '5', '5', '5', '5',\n",
       "        '5', '4', '3', '4', '5', '5', '4', '5', '3', '3', '3', '2', '3',\n",
       "        '2', '8', '5', '5', '5'],\n",
       "       ['0', '0', '0', '0', '500', '0', '0', '0', '0', '0', '0', '0',\n",
       "        '500', '0', '0', '0', '0', '0', '0', '0', '0', '0', '0', '0',\n",
       "        '0', '500', '0', '0', '0', '0', '500', '0', '0', '0', '0', '0',\n",
       "        '500', '500', '500', '500', '500', '500', '500', '500', '500',\n",
       "        '0', '0', '0', '0', '0', '0', '500', '500', '500', '500', '500',\n",
       "        '500', '500', '500', '500', '500', '500', '500', '0', '500',\n",
       "        '500', '0', '500', '500', '500', '500', '500', '0', '500', '500',\n",
       "        '500', '500', '0', '0', '0', '0', '500', '500', '500', '500',\n",
       "        '0', '0', '0', '0', '0', '0', '0', '0', '500', '0', '500'],\n",
       "       ['66', '66', '66', '66', '66', '66', '66', '66', '66', '65', '65',\n",
       "        '65', '65', '65', '65', '65', '65', '65', '64', '64', '64', '64',\n",
       "        '64', '64', '64', '64', '64', '64', '64', '64', '64', '64', '64',\n",
       "        '64', '64', '64', '64', '64', '64', '64', '64', '64', '64', '64',\n",
       "        '64', '64', '64', '64', '64', '64', '64', '64', '64', '64', '64',\n",
       "        '64', '64', '64', '64', '64', '64', '64', '64', '64', '64', '64',\n",
       "        '64', '64', '64', '64', '64', '64', '64', '64', '64', '64', '64',\n",
       "        '64', '64', '64', '64', '64', '64', '64', '64', '64', '64', '64',\n",
       "        '64', '64', '64', '64', '64', '64', '64', '64']], dtype='<U10')"
      ]
     },
     "execution_count": 30,
     "metadata": {},
     "output_type": "execute_result"
    }
   ],
   "source": [
    "data.T"
   ]
  },
  {
   "cell_type": "code",
   "execution_count": 38,
   "id": "e8b2fa17",
   "metadata": {},
   "outputs": [],
   "source": [
    "date,step_count,mood,calories_burned, hours_of_sleep,bool_of_active,weight_kg = data.T"
   ]
  },
  {
   "cell_type": "code",
   "execution_count": 39,
   "id": "a6d3b271",
   "metadata": {
    "scrolled": true
   },
   "outputs": [
    {
     "data": {
      "text/plain": [
       "array(['5464', '6041', '25', '5461', '6915', '4545', '4340', '1230', '61',\n",
       "       '1258', '3148', '4687', '4732', '3519', '1580', '2822', '181',\n",
       "       '3158', '4383', '3881', '4037', '202', '292', '330', '2209',\n",
       "       '4550', '4435', '4779', '1831', '2255', '539', '5464', '6041',\n",
       "       '4068', '4683', '4033', '6314', '614', '3149', '4005', '4880',\n",
       "       '4136', '705', '570', '269', '4275', '5999', '4421', '6930',\n",
       "       '5195', '546', '493', '995', '1163', '6676', '3608', '774', '1421',\n",
       "       '4064', '2725', '5934', '1867', '3721', '2374', '2909', '1648',\n",
       "       '799', '7102', '3941', '7422', '437', '1231', '1696', '4921',\n",
       "       '221', '6500', '3575', '4061', '651', '753', '518', '5537', '4108',\n",
       "       '5376', '3066', '177', '36', '299', '1447', '2599', '702', '133',\n",
       "       '153', '500', '2127', '2203'], dtype='<U10')"
      ]
     },
     "execution_count": 39,
     "metadata": {},
     "output_type": "execute_result"
    }
   ],
   "source": [
    "step_count"
   ]
  },
  {
   "cell_type": "code",
   "execution_count": 45,
   "id": "84efe233",
   "metadata": {},
   "outputs": [],
   "source": [
    "step_count=np.array(step_count, dtype='int')"
   ]
  },
  {
   "cell_type": "code",
   "execution_count": 64,
   "id": "fb8b080c",
   "metadata": {},
   "outputs": [],
   "source": [
    "hours_of_sleep = np.array(hours_of_sleep, dtype='int')"
   ]
  },
  {
   "cell_type": "code",
   "execution_count": 46,
   "id": "92800e79",
   "metadata": {},
   "outputs": [
    {
     "data": {
      "text/plain": [
       "array([5464, 6041,   25, 5461, 6915, 4545, 4340, 1230,   61, 1258, 3148,\n",
       "       4687, 4732, 3519, 1580, 2822,  181, 3158, 4383, 3881, 4037,  202,\n",
       "        292,  330, 2209, 4550, 4435, 4779, 1831, 2255,  539, 5464, 6041,\n",
       "       4068, 4683, 4033, 6314,  614, 3149, 4005, 4880, 4136,  705,  570,\n",
       "        269, 4275, 5999, 4421, 6930, 5195,  546,  493,  995, 1163, 6676,\n",
       "       3608,  774, 1421, 4064, 2725, 5934, 1867, 3721, 2374, 2909, 1648,\n",
       "        799, 7102, 3941, 7422,  437, 1231, 1696, 4921,  221, 6500, 3575,\n",
       "       4061,  651,  753,  518, 5537, 4108, 5376, 3066,  177,   36,  299,\n",
       "       1447, 2599,  702,  133,  153,  500, 2127, 2203])"
      ]
     },
     "execution_count": 46,
     "metadata": {},
     "output_type": "execute_result"
    }
   ],
   "source": [
    "step_count"
   ]
  },
  {
   "cell_type": "code",
   "execution_count": 47,
   "id": "b13c6b70",
   "metadata": {},
   "outputs": [
    {
     "data": {
      "text/plain": [
       "2935.9375"
      ]
     },
     "execution_count": 47,
     "metadata": {},
     "output_type": "execute_result"
    }
   ],
   "source": [
    "np.mean(step_count)"
   ]
  },
  {
   "cell_type": "code",
   "execution_count": 48,
   "id": "d2f54e71",
   "metadata": {},
   "outputs": [
    {
     "data": {
      "text/plain": [
       "array(['200', '100', '100', '100', '200', '100', '100', '100', '100',\n",
       "       '100', '100', '100', '300', '100', '100', '100', '100', '200',\n",
       "       '200', '200', '200', '200', '200', '300', '200', '300', '300',\n",
       "       '300', '300', '300', '300', '300', '200', '300', '300', '300',\n",
       "       '300', '300', '300', '300', '300', '300', '300', '200', '300',\n",
       "       '300', '300', '300', '300', '300', '300', '300', '300', '200',\n",
       "       '100', '300', '300', '300', '300', '300', '300', '300', '100',\n",
       "       '200', '200', '100', '100', '200', '200', '300', '200', '200',\n",
       "       '100', '200', '100', '200', '200', '100', '100', '100', '100',\n",
       "       '300', '200', '300', '200', '100', '100', '100', '200', '200',\n",
       "       '100', '100', '300', '200', '200', '300'], dtype='<U10')"
      ]
     },
     "execution_count": 48,
     "metadata": {},
     "output_type": "execute_result"
    }
   ],
   "source": [
    "mood"
   ]
  },
  {
   "cell_type": "code",
   "execution_count": 49,
   "id": "eadf9413",
   "metadata": {},
   "outputs": [],
   "source": [
    "mood[mood=='100'] = 'sad'\n",
    "mood[mood=='200'] = 'neutral'\n",
    "mood[mood=='300'] = 'happy'"
   ]
  },
  {
   "cell_type": "code",
   "execution_count": 50,
   "id": "83f6bdc6",
   "metadata": {},
   "outputs": [
    {
     "data": {
      "text/plain": [
       "array(['neutral', 'sad', 'sad', 'sad', 'neutral', 'sad', 'sad', 'sad',\n",
       "       'sad', 'sad', 'sad', 'sad', 'happy', 'sad', 'sad', 'sad', 'sad',\n",
       "       'neutral', 'neutral', 'neutral', 'neutral', 'neutral', 'neutral',\n",
       "       'happy', 'neutral', 'happy', 'happy', 'happy', 'happy', 'happy',\n",
       "       'happy', 'happy', 'neutral', 'happy', 'happy', 'happy', 'happy',\n",
       "       'happy', 'happy', 'happy', 'happy', 'happy', 'happy', 'neutral',\n",
       "       'happy', 'happy', 'happy', 'happy', 'happy', 'happy', 'happy',\n",
       "       'happy', 'happy', 'neutral', 'sad', 'happy', 'happy', 'happy',\n",
       "       'happy', 'happy', 'happy', 'happy', 'sad', 'neutral', 'neutral',\n",
       "       'sad', 'sad', 'neutral', 'neutral', 'happy', 'neutral', 'neutral',\n",
       "       'sad', 'neutral', 'sad', 'neutral', 'neutral', 'sad', 'sad', 'sad',\n",
       "       'sad', 'happy', 'neutral', 'happy', 'neutral', 'sad', 'sad', 'sad',\n",
       "       'neutral', 'neutral', 'sad', 'sad', 'happy', 'neutral', 'neutral',\n",
       "       'happy'], dtype='<U10')"
      ]
     },
     "execution_count": 50,
     "metadata": {},
     "output_type": "execute_result"
    }
   ],
   "source": [
    "mood"
   ]
  },
  {
   "cell_type": "code",
   "execution_count": 70,
   "id": "41da21fa",
   "metadata": {},
   "outputs": [],
   "source": [
    "bool_of_active[bool_of_active=='0']='inactive'\n",
    "bool_of_active[bool_of_active=='500']='active'"
   ]
  },
  {
   "cell_type": "code",
   "execution_count": 71,
   "id": "a34f9d52",
   "metadata": {},
   "outputs": [
    {
     "data": {
      "text/plain": [
       "array(['inactive', 'inactive', 'inactive', 'inactive', 'active',\n",
       "       'inactive', 'inactive', 'inactive', 'inactive', 'inactive',\n",
       "       'inactive', 'inactive', 'active', 'inactive', 'inactive',\n",
       "       'inactive', 'inactive', 'inactive', 'inactive', 'inactive',\n",
       "       'inactive', 'inactive', 'inactive', 'inactive', 'inactive',\n",
       "       'active', 'inactive', 'inactive', 'inactive', 'inactive', 'active',\n",
       "       'inactive', 'inactive', 'inactive', 'inactive', 'inactive',\n",
       "       'active', 'active', 'active', 'active', 'active', 'active',\n",
       "       'active', 'active', 'active', 'inactive', 'inactive', 'inactive',\n",
       "       'inactive', 'inactive', 'inactive', 'active', 'active', 'active',\n",
       "       'active', 'active', 'active', 'active', 'active', 'active',\n",
       "       'active', 'active', 'active', 'inactive', 'active', 'active',\n",
       "       'inactive', 'active', 'active', 'active', 'active', 'active',\n",
       "       'inactive', 'active', 'active', 'active', 'active', 'inactive',\n",
       "       'inactive', 'inactive', 'inactive', 'active', 'active', 'active',\n",
       "       'active', 'inactive', 'inactive', 'inactive', 'inactive',\n",
       "       'inactive', 'inactive', 'inactive', 'inactive', 'active',\n",
       "       'inactive', 'active'], dtype='<U10')"
      ]
     },
     "execution_count": 71,
     "metadata": {},
     "output_type": "execute_result"
    }
   ],
   "source": [
    "bool_of_active"
   ]
  },
  {
   "cell_type": "code",
   "execution_count": 53,
   "id": "8c580f37",
   "metadata": {},
   "outputs": [
    {
     "data": {
      "text/plain": [
       "array(['happy', 'neutral', 'sad'], dtype='<U10')"
      ]
     },
     "execution_count": 53,
     "metadata": {},
     "output_type": "execute_result"
    }
   ],
   "source": [
    "np.unique(mood)"
   ]
  },
  {
   "cell_type": "code",
   "execution_count": 54,
   "id": "53943fe1",
   "metadata": {},
   "outputs": [
    {
     "data": {
      "text/plain": [
       "(array(['happy', 'neutral', 'sad'], dtype='<U10'),\n",
       " array([40, 27, 29], dtype=int64))"
      ]
     },
     "execution_count": 54,
     "metadata": {},
     "output_type": "execute_result"
    }
   ],
   "source": [
    "np.unique(mood, return_counts=True)"
   ]
  },
  {
   "cell_type": "code",
   "execution_count": 55,
   "id": "c15726cd",
   "metadata": {},
   "outputs": [
    {
     "data": {
      "text/plain": [
       "2935.9375"
      ]
     },
     "execution_count": 55,
     "metadata": {},
     "output_type": "execute_result"
    }
   ],
   "source": [
    "np.mean(step_count)"
   ]
  },
  {
   "cell_type": "code",
   "execution_count": 56,
   "id": "8a0dcb4b",
   "metadata": {},
   "outputs": [
    {
     "data": {
      "text/plain": [
       "7422"
      ]
     },
     "execution_count": 56,
     "metadata": {},
     "output_type": "execute_result"
    }
   ],
   "source": [
    "np.max(step_count)"
   ]
  },
  {
   "cell_type": "code",
   "execution_count": 57,
   "id": "3ddb8a94",
   "metadata": {},
   "outputs": [
    {
     "data": {
      "text/plain": [
       "69"
      ]
     },
     "execution_count": 57,
     "metadata": {},
     "output_type": "execute_result"
    }
   ],
   "source": [
    "np.argmax(step_count)"
   ]
  },
  {
   "cell_type": "code",
   "execution_count": 58,
   "id": "b173916f",
   "metadata": {},
   "outputs": [
    {
     "data": {
      "text/plain": [
       "'14-12-2017'"
      ]
     },
     "execution_count": 58,
     "metadata": {},
     "output_type": "execute_result"
    }
   ],
   "source": [
    "date[np.argmax(step_count)]"
   ]
  },
  {
   "cell_type": "code",
   "execution_count": 59,
   "id": "eb696f88",
   "metadata": {},
   "outputs": [
    {
     "data": {
      "text/plain": [
       "array(['14-12-2017', '7422', 'happy', '243', '5', '500', '64'],\n",
       "      dtype='<U10')"
      ]
     },
     "execution_count": 59,
     "metadata": {},
     "output_type": "execute_result"
    }
   ],
   "source": [
    "data[np.argmax(step_count)]"
   ]
  },
  {
   "cell_type": "code",
   "execution_count": 60,
   "id": "bc223c77",
   "metadata": {},
   "outputs": [
    {
     "data": {
      "text/plain": [
       "'243'"
      ]
     },
     "execution_count": 60,
     "metadata": {},
     "output_type": "execute_result"
    }
   ],
   "source": [
    "calories_burned[np.argmax(step_count)]"
   ]
  },
  {
   "cell_type": "code",
   "execution_count": 62,
   "id": "67e661f3",
   "metadata": {},
   "outputs": [
    {
     "data": {
      "text/plain": [
       "(array(['happy', 'neutral', 'sad'], dtype='<U10'),\n",
       " array([22,  9,  7], dtype=int64))"
      ]
     },
     "execution_count": 62,
     "metadata": {},
     "output_type": "execute_result"
    }
   ],
   "source": [
    "np.unique(mood[step_count>4000], return_counts=True)"
   ]
  },
  {
   "cell_type": "code",
   "execution_count": 65,
   "id": "8f966056",
   "metadata": {},
   "outputs": [
    {
     "data": {
      "text/plain": [
       "5.21875"
      ]
     },
     "execution_count": 65,
     "metadata": {},
     "output_type": "execute_result"
    }
   ],
   "source": [
    "np.mean(hours_of_sleep)"
   ]
  },
  {
   "cell_type": "code",
   "execution_count": 67,
   "id": "15af68b1",
   "metadata": {},
   "outputs": [
    {
     "data": {
      "text/plain": [
       "(array(['happy', 'neutral', 'sad'], dtype='<U10'),\n",
       " array([20, 24, 19], dtype=int64))"
      ]
     },
     "execution_count": 67,
     "metadata": {},
     "output_type": "execute_result"
    }
   ],
   "source": [
    "np.unique(mood[hours_of_sleep<5.2], return_counts=True)"
   ]
  },
  {
   "cell_type": "code",
   "execution_count": 68,
   "id": "c0331afe",
   "metadata": {},
   "outputs": [
    {
     "data": {
      "text/plain": [
       "(array(['happy', 'neutral', 'sad'], dtype='<U10'),\n",
       " array([1, 5, 6], dtype=int64))"
      ]
     },
     "execution_count": 68,
     "metadata": {},
     "output_type": "execute_result"
    }
   ],
   "source": [
    "np.unique(mood[hours_of_sleep<4], return_counts=True)"
   ]
  },
  {
   "cell_type": "code",
   "execution_count": 72,
   "id": "1fc91793",
   "metadata": {},
   "outputs": [
    {
     "data": {
      "text/plain": [
       "(array(['active', 'inactive'], dtype='<U10'), array([3, 9], dtype=int64))"
      ]
     },
     "execution_count": 72,
     "metadata": {},
     "output_type": "execute_result"
    }
   ],
   "source": [
    "np.unique(bool_of_active[hours_of_sleep<4], return_counts=True)"
   ]
  },
  {
   "cell_type": "code",
   "execution_count": 73,
   "id": "f4690d47",
   "metadata": {},
   "outputs": [
    {
     "data": {
      "text/plain": [
       "(array(['active', 'inactive'], dtype='<U10'), array([16, 17], dtype=int64))"
      ]
     },
     "execution_count": 73,
     "metadata": {},
     "output_type": "execute_result"
    }
   ],
   "source": [
    "np.unique(bool_of_active[hours_of_sleep>5], return_counts=True)"
   ]
  },
  {
   "cell_type": "code",
   "execution_count": 75,
   "id": "746b8de9",
   "metadata": {},
   "outputs": [],
   "source": [
    "weight_kg = np.array(weight_kg, dtype='int')"
   ]
  },
  {
   "cell_type": "code",
   "execution_count": 76,
   "id": "e439a6cf",
   "metadata": {},
   "outputs": [
    {
     "data": {
      "text/plain": [
       "array([66, 66, 66, 66, 66, 66, 66, 66, 66, 65, 65, 65, 65, 65, 65, 65, 65,\n",
       "       65, 64, 64, 64, 64, 64, 64, 64, 64, 64, 64, 64, 64, 64, 64, 64, 64,\n",
       "       64, 64, 64, 64, 64, 64, 64, 64, 64, 64, 64, 64, 64, 64, 64, 64, 64,\n",
       "       64, 64, 64, 64, 64, 64, 64, 64, 64, 64, 64, 64, 64, 64, 64, 64, 64,\n",
       "       64, 64, 64, 64, 64, 64, 64, 64, 64, 64, 64, 64, 64, 64, 64, 64, 64,\n",
       "       64, 64, 64, 64, 64, 64, 64, 64, 64, 64, 64])"
      ]
     },
     "execution_count": 76,
     "metadata": {},
     "output_type": "execute_result"
    }
   ],
   "source": [
    "weight_kg"
   ]
  },
  {
   "cell_type": "code",
   "execution_count": null,
   "id": "951a227f",
   "metadata": {},
   "outputs": [],
   "source": []
  },
  {
   "cell_type": "markdown",
   "id": "579140af",
   "metadata": {},
   "source": [
    "Different concept"
   ]
  },
  {
   "cell_type": "code",
   "execution_count": null,
   "id": "10f6fe43",
   "metadata": {},
   "outputs": [],
   "source": []
  },
  {
   "cell_type": "code",
   "execution_count": 77,
   "id": "4571d4ae",
   "metadata": {},
   "outputs": [
    {
     "data": {
      "text/plain": [
       "array([ -3,   4,  27,  34,  -2,   0, -45, -11,   4,   0])"
      ]
     },
     "execution_count": 77,
     "metadata": {},
     "output_type": "execute_result"
    }
   ],
   "source": [
    "arr = np.array([-3,4,27,34,-2, 0, -45,-11,4, 0 ])\n",
    "arr"
   ]
  },
  {
   "cell_type": "code",
   "execution_count": 81,
   "id": "e86e432a",
   "metadata": {},
   "outputs": [],
   "source": [
    "arr[arr>0]=1\n",
    "arr[arr<0]=-1"
   ]
  },
  {
   "cell_type": "code",
   "execution_count": 82,
   "id": "c4b059ba",
   "metadata": {},
   "outputs": [
    {
     "data": {
      "text/plain": [
       "array([-1,  1,  1,  1, -1,  0, -1, -1,  1,  0])"
      ]
     },
     "execution_count": 82,
     "metadata": {},
     "output_type": "execute_result"
    }
   ],
   "source": [
    "arr"
   ]
  },
  {
   "cell_type": "markdown",
   "id": "57208c7f",
   "metadata": {},
   "source": [
    "Similar action can be done by below"
   ]
  },
  {
   "cell_type": "code",
   "execution_count": 84,
   "id": "43d706cc",
   "metadata": {},
   "outputs": [],
   "source": [
    "arr = np.array([-3,4,27,34,-2, 0, -45,-11,4, 0 ])"
   ]
  },
  {
   "cell_type": "code",
   "execution_count": 85,
   "id": "f8e75731",
   "metadata": {},
   "outputs": [
    {
     "data": {
      "text/plain": [
       "array([-1,  1,  1,  1, -1, -1, -1, -1,  1, -1])"
      ]
     },
     "execution_count": 85,
     "metadata": {},
     "output_type": "execute_result"
    }
   ],
   "source": [
    "np.where(arr>0, 1, -1)"
   ]
  },
  {
   "cell_type": "markdown",
   "id": "ebe4b3b8",
   "metadata": {},
   "source": [
    "Difference is the application of logic. Earlier one equal to zero's will stay as such while in the later equal to zero's will also be updated."
   ]
  },
  {
   "cell_type": "code",
   "execution_count": null,
   "id": "c53de7f0",
   "metadata": {},
   "outputs": [],
   "source": []
  },
  {
   "cell_type": "markdown",
   "id": "197d0554",
   "metadata": {},
   "source": [
    "### Matrix multiplication"
   ]
  },
  {
   "cell_type": "code",
   "execution_count": 86,
   "id": "f608c901",
   "metadata": {},
   "outputs": [],
   "source": [
    "a = np.array([2,3,4,5])\n",
    "b = np.array([3,4,5,6])"
   ]
  },
  {
   "cell_type": "markdown",
   "id": "bb573eb5",
   "metadata": {},
   "source": [
    "' * ' is element-wise multiplication"
   ]
  },
  {
   "cell_type": "code",
   "execution_count": 87,
   "id": "1d517800",
   "metadata": {},
   "outputs": [
    {
     "data": {
      "text/plain": [
       "array([ 6, 12, 20, 30])"
      ]
     },
     "execution_count": 87,
     "metadata": {},
     "output_type": "execute_result"
    }
   ],
   "source": [
    "a*b"
   ]
  },
  {
   "cell_type": "markdown",
   "id": "48abf0ab",
   "metadata": {},
   "source": [
    "For matrix multiplication, '@', 'matmul' and 'dot' can be used."
   ]
  },
  {
   "cell_type": "code",
   "execution_count": 88,
   "id": "bedf1356",
   "metadata": {},
   "outputs": [],
   "source": [
    "a=np.arange(1,10).reshape((3,3))"
   ]
  },
  {
   "cell_type": "code",
   "execution_count": 89,
   "id": "6d8768f3",
   "metadata": {},
   "outputs": [
    {
     "data": {
      "text/plain": [
       "array([[1, 2, 3],\n",
       "       [4, 5, 6],\n",
       "       [7, 8, 9]])"
      ]
     },
     "execution_count": 89,
     "metadata": {},
     "output_type": "execute_result"
    }
   ],
   "source": [
    "a"
   ]
  },
  {
   "cell_type": "code",
   "execution_count": 90,
   "id": "707ed71d",
   "metadata": {},
   "outputs": [],
   "source": [
    "b=np.arange(2,11).reshape((3,3))"
   ]
  },
  {
   "cell_type": "code",
   "execution_count": 91,
   "id": "747cbd5d",
   "metadata": {},
   "outputs": [
    {
     "data": {
      "text/plain": [
       "array([[ 2,  3,  4],\n",
       "       [ 5,  6,  7],\n",
       "       [ 8,  9, 10]])"
      ]
     },
     "execution_count": 91,
     "metadata": {},
     "output_type": "execute_result"
    }
   ],
   "source": [
    "b"
   ]
  },
  {
   "cell_type": "code",
   "execution_count": 92,
   "id": "1b98dec1",
   "metadata": {},
   "outputs": [
    {
     "data": {
      "text/plain": [
       "array([[ 36,  42,  48],\n",
       "       [ 81,  96, 111],\n",
       "       [126, 150, 174]])"
      ]
     },
     "execution_count": 92,
     "metadata": {},
     "output_type": "execute_result"
    }
   ],
   "source": [
    "np.matmul(a,b)"
   ]
  },
  {
   "cell_type": "code",
   "execution_count": 93,
   "id": "b79941ec",
   "metadata": {},
   "outputs": [
    {
     "data": {
      "text/plain": [
       "array([[ 42,  51,  60],\n",
       "       [ 78,  96, 114],\n",
       "       [114, 141, 168]])"
      ]
     },
     "execution_count": 93,
     "metadata": {},
     "output_type": "execute_result"
    }
   ],
   "source": [
    "np.matmul(b,a)"
   ]
  },
  {
   "cell_type": "code",
   "execution_count": 94,
   "id": "9a385908",
   "metadata": {},
   "outputs": [
    {
     "data": {
      "text/plain": [
       "array([[ 36,  42,  48],\n",
       "       [ 81,  96, 111],\n",
       "       [126, 150, 174]])"
      ]
     },
     "execution_count": 94,
     "metadata": {},
     "output_type": "execute_result"
    }
   ],
   "source": [
    "a@b"
   ]
  },
  {
   "cell_type": "code",
   "execution_count": 95,
   "id": "ee104e28",
   "metadata": {},
   "outputs": [
    {
     "data": {
      "text/plain": [
       "array([[ 36,  42,  48],\n",
       "       [ 81,  96, 111],\n",
       "       [126, 150, 174]])"
      ]
     },
     "execution_count": 95,
     "metadata": {},
     "output_type": "execute_result"
    }
   ],
   "source": [
    "np.dot(a,b)"
   ]
  },
  {
   "cell_type": "code",
   "execution_count": 96,
   "id": "c2d00f30",
   "metadata": {},
   "outputs": [
    {
     "data": {
      "text/plain": [
       "20"
      ]
     },
     "execution_count": 96,
     "metadata": {},
     "output_type": "execute_result"
    }
   ],
   "source": [
    "np.dot(4,5)"
   ]
  },
  {
   "cell_type": "code",
   "execution_count": 101,
   "id": "f1fb236e",
   "metadata": {},
   "outputs": [
    {
     "data": {
      "text/plain": [
       "array([1, 2, 3, 4])"
      ]
     },
     "execution_count": 101,
     "metadata": {},
     "output_type": "execute_result"
    }
   ],
   "source": [
    "d= np.arange(1,5)\n",
    "d"
   ]
  },
  {
   "cell_type": "code",
   "execution_count": 104,
   "id": "3f7439ea",
   "metadata": {},
   "outputs": [],
   "source": [
    "e=np.arange(2,6)"
   ]
  },
  {
   "cell_type": "code",
   "execution_count": 105,
   "id": "34dfcf92",
   "metadata": {},
   "outputs": [
    {
     "data": {
      "text/plain": [
       "array([2, 3, 4, 5])"
      ]
     },
     "execution_count": 105,
     "metadata": {},
     "output_type": "execute_result"
    }
   ],
   "source": [
    "e"
   ]
  },
  {
   "cell_type": "code",
   "execution_count": 106,
   "id": "c7ecd887",
   "metadata": {},
   "outputs": [
    {
     "data": {
      "text/plain": [
       "40"
      ]
     },
     "execution_count": 106,
     "metadata": {},
     "output_type": "execute_result"
    }
   ],
   "source": [
    "np.dot(d,e)"
   ]
  },
  {
   "cell_type": "code",
   "execution_count": 107,
   "id": "47037a49",
   "metadata": {},
   "outputs": [
    {
     "data": {
      "text/plain": [
       "40"
      ]
     },
     "execution_count": 107,
     "metadata": {},
     "output_type": "execute_result"
    }
   ],
   "source": [
    "np.matmul(d,e)"
   ]
  },
  {
   "cell_type": "code",
   "execution_count": 113,
   "id": "678c3786",
   "metadata": {},
   "outputs": [],
   "source": [
    "np.matmul?"
   ]
  },
  {
   "cell_type": "code",
   "execution_count": 114,
   "id": "1ba79a59",
   "metadata": {},
   "outputs": [],
   "source": [
    "np.dot?"
   ]
  },
  {
   "cell_type": "code",
   "execution_count": 116,
   "id": "ac9da605",
   "metadata": {},
   "outputs": [
    {
     "data": {
      "text/plain": [
       "array([[ 1,  2,  3,  4],\n",
       "       [ 5,  6,  7,  8],\n",
       "       [ 9, 10, 11, 12]])"
      ]
     },
     "execution_count": 116,
     "metadata": {},
     "output_type": "execute_result"
    }
   ],
   "source": [
    "g=np.arange(1,13).reshape((3,4))\n",
    "g"
   ]
  },
  {
   "cell_type": "code",
   "execution_count": 117,
   "id": "5ccfb082",
   "metadata": {},
   "outputs": [
    {
     "data": {
      "text/plain": [
       "array([[ 1,  2,  3],\n",
       "       [ 4,  5,  6],\n",
       "       [ 7,  8,  9],\n",
       "       [10, 11, 12]])"
      ]
     },
     "execution_count": 117,
     "metadata": {},
     "output_type": "execute_result"
    }
   ],
   "source": [
    "h=np.arange(1,13).reshape((4,3))\n",
    "h"
   ]
  },
  {
   "cell_type": "code",
   "execution_count": 118,
   "id": "c3a71f2b",
   "metadata": {},
   "outputs": [
    {
     "data": {
      "text/plain": [
       "array([[ 70,  80,  90],\n",
       "       [158, 184, 210],\n",
       "       [246, 288, 330]])"
      ]
     },
     "execution_count": 118,
     "metadata": {},
     "output_type": "execute_result"
    }
   ],
   "source": [
    "np.dot(g,h)"
   ]
  },
  {
   "cell_type": "code",
   "execution_count": 119,
   "id": "1bcb1768",
   "metadata": {},
   "outputs": [
    {
     "data": {
      "text/plain": [
       "array([[ 38,  44,  50,  56],\n",
       "       [ 83,  98, 113, 128],\n",
       "       [128, 152, 176, 200],\n",
       "       [173, 206, 239, 272]])"
      ]
     },
     "execution_count": 119,
     "metadata": {},
     "output_type": "execute_result"
    }
   ],
   "source": [
    "np.dot(h,g)"
   ]
  },
  {
   "cell_type": "code",
   "execution_count": 120,
   "id": "2acd8105",
   "metadata": {},
   "outputs": [
    {
     "name": "stdout",
     "output_type": "stream",
     "text": [
      "[[1 2 3]]\n",
      "[[ 1  2  3  4  5]\n",
      " [ 6  7  8  9 10]\n",
      " [11 12 13 14 15]]\n"
     ]
    }
   ],
   "source": [
    "j=np.arange(1,4).reshape((1,3))\n",
    "h=np.arange(1,16).reshape((3,5))\n",
    "print(j)\n",
    "print(h)"
   ]
  },
  {
   "cell_type": "code",
   "execution_count": 121,
   "id": "d983593c",
   "metadata": {},
   "outputs": [
    {
     "data": {
      "text/plain": [
       "array([[46, 52, 58, 64, 70]])"
      ]
     },
     "execution_count": 121,
     "metadata": {},
     "output_type": "execute_result"
    }
   ],
   "source": [
    "np.dot(j,h)"
   ]
  },
  {
   "cell_type": "code",
   "execution_count": 122,
   "id": "09683b3b",
   "metadata": {},
   "outputs": [
    {
     "ename": "ValueError",
     "evalue": "shapes (3,5) and (1,3) not aligned: 5 (dim 1) != 1 (dim 0)",
     "output_type": "error",
     "traceback": [
      "\u001b[1;31m---------------------------------------------------------------------------\u001b[0m",
      "\u001b[1;31mValueError\u001b[0m                                Traceback (most recent call last)",
      "\u001b[1;32m<ipython-input-122-d470a2d144b3>\u001b[0m in \u001b[0;36m<module>\u001b[1;34m\u001b[0m\n\u001b[1;32m----> 1\u001b[1;33m \u001b[0mnp\u001b[0m\u001b[1;33m.\u001b[0m\u001b[0mdot\u001b[0m\u001b[1;33m(\u001b[0m\u001b[0mh\u001b[0m\u001b[1;33m,\u001b[0m\u001b[0mj\u001b[0m\u001b[1;33m)\u001b[0m\u001b[1;33m\u001b[0m\u001b[0m\n\u001b[0m",
      "\u001b[1;32m<__array_function__ internals>\u001b[0m in \u001b[0;36mdot\u001b[1;34m(*args, **kwargs)\u001b[0m\n",
      "\u001b[1;31mValueError\u001b[0m: shapes (3,5) and (1,3) not aligned: 5 (dim 1) != 1 (dim 0)"
     ]
    }
   ],
   "source": [
    "np.dot(h,j)"
   ]
  },
  {
   "cell_type": "code",
   "execution_count": 123,
   "id": "9db38b54",
   "metadata": {},
   "outputs": [
    {
     "name": "stdout",
     "output_type": "stream",
     "text": [
      "[[ 1  2  3]\n",
      " [ 4  5  6]\n",
      " [ 7  8  9]\n",
      " [10 11 12]\n",
      " [13 14 15]]\n"
     ]
    }
   ],
   "source": [
    "h=np.arange(1,16).reshape((5,3))\n",
    "print(h)"
   ]
  },
  {
   "cell_type": "code",
   "execution_count": 124,
   "id": "e1322316",
   "metadata": {},
   "outputs": [
    {
     "data": {
      "text/plain": [
       "(1, 3)"
      ]
     },
     "execution_count": 124,
     "metadata": {},
     "output_type": "execute_result"
    }
   ],
   "source": [
    "j.shape"
   ]
  },
  {
   "cell_type": "code",
   "execution_count": 125,
   "id": "8ab8201c",
   "metadata": {},
   "outputs": [
    {
     "data": {
      "text/plain": [
       "array([[14, 32, 50, 68, 86]])"
      ]
     },
     "execution_count": 125,
     "metadata": {},
     "output_type": "execute_result"
    }
   ],
   "source": [
    "np.dot(j, h.T)"
   ]
  },
  {
   "cell_type": "code",
   "execution_count": null,
   "id": "b215478d",
   "metadata": {},
   "outputs": [],
   "source": []
  },
  {
   "cell_type": "code",
   "execution_count": 126,
   "id": "86a75053",
   "metadata": {},
   "outputs": [],
   "source": [
    "#np.tile()"
   ]
  },
  {
   "cell_type": "code",
   "execution_count": 127,
   "id": "73f57898",
   "metadata": {},
   "outputs": [
    {
     "data": {
      "text/plain": [
       "array([[ 1,  2,  3,  4],\n",
       "       [ 5,  6,  7,  8],\n",
       "       [ 9, 10, 11, 12]])"
      ]
     },
     "execution_count": 127,
     "metadata": {},
     "output_type": "execute_result"
    }
   ],
   "source": [
    "t=np.arange(1,13).reshape((3,4))\n",
    "t"
   ]
  },
  {
   "cell_type": "code",
   "execution_count": 128,
   "id": "6b43581f",
   "metadata": {},
   "outputs": [
    {
     "data": {
      "text/plain": [
       "array([[ 1,  2,  3,  4,  1,  2,  3,  4],\n",
       "       [ 5,  6,  7,  8,  5,  6,  7,  8],\n",
       "       [ 9, 10, 11, 12,  9, 10, 11, 12],\n",
       "       [ 1,  2,  3,  4,  1,  2,  3,  4],\n",
       "       [ 5,  6,  7,  8,  5,  6,  7,  8],\n",
       "       [ 9, 10, 11, 12,  9, 10, 11, 12]])"
      ]
     },
     "execution_count": 128,
     "metadata": {},
     "output_type": "execute_result"
    }
   ],
   "source": [
    "np.tile(t,(2,2))"
   ]
  },
  {
   "cell_type": "code",
   "execution_count": 129,
   "id": "69a138d8",
   "metadata": {},
   "outputs": [
    {
     "data": {
      "text/plain": [
       "array([[ 1,  2,  3,  4,  1,  2,  3,  4],\n",
       "       [ 5,  6,  7,  8,  5,  6,  7,  8],\n",
       "       [ 9, 10, 11, 12,  9, 10, 11, 12],\n",
       "       [ 1,  2,  3,  4,  1,  2,  3,  4],\n",
       "       [ 5,  6,  7,  8,  5,  6,  7,  8],\n",
       "       [ 9, 10, 11, 12,  9, 10, 11, 12],\n",
       "       [ 1,  2,  3,  4,  1,  2,  3,  4],\n",
       "       [ 5,  6,  7,  8,  5,  6,  7,  8],\n",
       "       [ 9, 10, 11, 12,  9, 10, 11, 12]])"
      ]
     },
     "execution_count": 129,
     "metadata": {},
     "output_type": "execute_result"
    }
   ],
   "source": [
    "np.tile(t,(3,2))"
   ]
  },
  {
   "cell_type": "code",
   "execution_count": null,
   "id": "a37027ab",
   "metadata": {},
   "outputs": [],
   "source": []
  },
  {
   "cell_type": "code",
   "execution_count": 130,
   "id": "f4acf967",
   "metadata": {},
   "outputs": [],
   "source": [
    "a=np.array([1,2,3,4,5])\n",
    "b=np.array([8,7,6])"
   ]
  },
  {
   "cell_type": "code",
   "execution_count": 131,
   "id": "21064d0b",
   "metadata": {},
   "outputs": [],
   "source": [
    "a[2:] = b[::-1]"
   ]
  },
  {
   "cell_type": "code",
   "execution_count": 132,
   "id": "fe8d6ec4",
   "metadata": {},
   "outputs": [
    {
     "data": {
      "text/plain": [
       "array([1, 2, 6, 7, 8])"
      ]
     },
     "execution_count": 132,
     "metadata": {},
     "output_type": "execute_result"
    }
   ],
   "source": [
    "a"
   ]
  },
  {
   "cell_type": "code",
   "execution_count": 134,
   "id": "c168da78",
   "metadata": {},
   "outputs": [],
   "source": [
    "a=np.array([1,2,3,4,5])\n",
    "b=np.array([8,7,6])"
   ]
  },
  {
   "cell_type": "code",
   "execution_count": 135,
   "id": "89ace88d",
   "metadata": {},
   "outputs": [
    {
     "ename": "ValueError",
     "evalue": "could not broadcast input array from shape (3,) into shape (4,)",
     "output_type": "error",
     "traceback": [
      "\u001b[1;31m---------------------------------------------------------------------------\u001b[0m",
      "\u001b[1;31mValueError\u001b[0m                                Traceback (most recent call last)",
      "\u001b[1;32m<ipython-input-135-d9ca93e8d468>\u001b[0m in \u001b[0;36m<module>\u001b[1;34m\u001b[0m\n\u001b[1;32m----> 1\u001b[1;33m \u001b[0ma\u001b[0m\u001b[1;33m[\u001b[0m\u001b[1;36m1\u001b[0m\u001b[1;33m:\u001b[0m\u001b[1;33m]\u001b[0m \u001b[1;33m=\u001b[0m \u001b[0mb\u001b[0m\u001b[1;33m[\u001b[0m\u001b[1;33m:\u001b[0m\u001b[1;33m:\u001b[0m\u001b[1;33m-\u001b[0m\u001b[1;36m1\u001b[0m\u001b[1;33m]\u001b[0m\u001b[1;33m\u001b[0m\u001b[0m\n\u001b[0m\u001b[0;32m      2\u001b[0m \u001b[0ma\u001b[0m\u001b[1;33m\u001b[0m\u001b[0m\n",
      "\u001b[1;31mValueError\u001b[0m: could not broadcast input array from shape (3,) into shape (4,)"
     ]
    }
   ],
   "source": [
    "a[1:] = b[::-1]\n",
    "a"
   ]
  },
  {
   "cell_type": "code",
   "execution_count": null,
   "id": "187e633d",
   "metadata": {},
   "outputs": [],
   "source": []
  }
 ],
 "metadata": {
  "kernelspec": {
   "display_name": "Python 3",
   "language": "python",
   "name": "python3"
  },
  "language_info": {
   "codemirror_mode": {
    "name": "ipython",
    "version": 3
   },
   "file_extension": ".py",
   "mimetype": "text/x-python",
   "name": "python",
   "nbconvert_exporter": "python",
   "pygments_lexer": "ipython3",
   "version": "3.7.0"
  }
 },
 "nbformat": 4,
 "nbformat_minor": 5
}
